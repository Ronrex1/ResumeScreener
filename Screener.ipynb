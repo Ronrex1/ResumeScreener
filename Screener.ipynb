# Import necessary libraries
import pandas as pd
from sklearn.model_selection import train_test_split
from sklearn.feature_extraction.text import TfidfVectorizer
from sklearn.naive_bayes import MultinomialNB
from sklearn.metrics import accuracy_score, classification_report, confusion_matrix

# Load your dataset (replace 'UpdatedResumeDataSet.csv' with your actual dataset file)
df = pd.read_csv('UpdatedResumeDataSet.csv')

# Check the column names in your DataFrame
print(df.columns)

# Replace 'Category' and 'Resume' with the actual column names in your dataset
train_data, test_data, train_labels, test_labels = train_test_split(df['Resume'], df['Category'], test_size=0.2, random_state=42)

# Convert text data to numerical features using TF-IDF
vectorizer = TfidfVectorizer(stop_words='english', max_features=5000)
train_features = vectorizer.fit_transform(train_data)
test_features = vectorizer.transform(test_data)

# Train a simple Naive Bayes classifier
classifier = MultinomialNB()
classifier.fit(train_features, train_labels)

# Make predictions on the test set
predictions = classifier.predict(test_features)

# Evaluate the model
accuracy = accuracy_score(test_labels, predictions)
print(f'Accuracy: {accuracy:.2f}')

# Display additional metrics
print('\nClassification Report:')
print(classification_report(test_labels, predictions))

print('\nConfusion Matrix:')
print(confusion_matrix(test_labels, predictions))
